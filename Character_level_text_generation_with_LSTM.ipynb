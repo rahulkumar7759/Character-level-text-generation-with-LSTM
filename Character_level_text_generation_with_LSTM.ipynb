{
  "nbformat": 4,
  "nbformat_minor": 0,
  "metadata": {
    "colab": {
      "provenance": [],
      "gpuType": "T4"
    },
    "kernelspec": {
      "name": "python3",
      "display_name": "Python 3"
    },
    "language_info": {
      "name": "python"
    },
    "accelerator": "GPU"
  },
  "cells": [
    {
      "cell_type": "code",
      "execution_count": 2,
      "metadata": {
        "colab": {
          "base_uri": "https://localhost:8080/"
        },
        "id": "4MwWhuN_Ev4w",
        "outputId": "1a1da2b3-9477-434c-f5a1-075197634e75"
      },
      "outputs": [
        {
          "output_type": "stream",
          "name": "stdout",
          "text": [
            "Drive already mounted at /content/drive; to attempt to forcibly remount, call drive.mount(\"/content/drive\", force_remount=True).\n"
          ]
        }
      ],
      "source": [
        "from google.colab import drive\n",
        "drive.mount('/content/drive')"
      ]
    },
    {
      "cell_type": "code",
      "source": [
        "from tensorflow import keras\n",
        "from tensorflow.keras import layers\n",
        "\n",
        "import numpy as np\n",
        "import random\n",
        "import io"
      ],
      "metadata": {
        "id": "M82BtqNwE5xP"
      },
      "execution_count": 3,
      "outputs": []
    },
    {
      "cell_type": "markdown",
      "source": [
        "##Prepare the Data"
      ],
      "metadata": {
        "id": "W1JKHsKAGOl6"
      }
    },
    {
      "cell_type": "code",
      "source": [
        "path = keras.utils.get_file(\n",
        "    \"nietzsche.txt\", origin=\"https://s3.amazonaws.com/text-datasets/nietzsche.txt\"\n",
        ")"
      ],
      "metadata": {
        "id": "xpsuHBifSjeO"
      },
      "execution_count": 4,
      "outputs": []
    },
    {
      "cell_type": "code",
      "source": [
        "with io.open(path, encoding=\"utf-8\") as f:\n",
        "    text = f.read().lower()\n",
        "text = text.replace(\"\\n\", \" \")  # We remove newlines chars for nicer display\n",
        "print(\"Corpus length:\", len(text))"
      ],
      "metadata": {
        "colab": {
          "base_uri": "https://localhost:8080/"
        },
        "id": "5EYSjyv8SjhQ",
        "outputId": "146f5bcc-c715-447b-bcb9-8abdb005c8a5"
      },
      "execution_count": 5,
      "outputs": [
        {
          "output_type": "stream",
          "name": "stdout",
          "text": [
            "Corpus length: 600893\n"
          ]
        }
      ]
    },
    {
      "cell_type": "code",
      "source": [
        "chars = sorted(list(set(text)))\n",
        "print(\"Total chars:\", len(chars))\n",
        "char_indices = dict((c, i) for i, c in enumerate(chars))\n",
        "indices_char = dict((i, c) for i, c in enumerate(chars))"
      ],
      "metadata": {
        "colab": {
          "base_uri": "https://localhost:8080/"
        },
        "id": "Tg_FApPLSjk5",
        "outputId": "7b94fe31-d14f-4a62-bcf2-2f87721336d0"
      },
      "execution_count": 6,
      "outputs": [
        {
          "output_type": "stream",
          "name": "stdout",
          "text": [
            "Total chars: 56\n"
          ]
        }
      ]
    },
    {
      "cell_type": "code",
      "source": [
        "# cut the text in semi-redundant sequences of maxlen characters\n",
        "maxlen = 40\n",
        "step = 3\n",
        "sentences = []\n",
        "next_chars = []\n",
        "for i in range(0, len(text) - maxlen, step):\n",
        "    sentences.append(text[i : i + maxlen])\n",
        "    next_chars.append(text[i + maxlen])\n",
        "print(\"Number of sequences:\", len(sentences))\n"
      ],
      "metadata": {
        "colab": {
          "base_uri": "https://localhost:8080/"
        },
        "id": "j9SPaisVSjqp",
        "outputId": "61630ab9-a95d-426a-b5db-85f454104755"
      },
      "execution_count": 7,
      "outputs": [
        {
          "output_type": "stream",
          "name": "stdout",
          "text": [
            "Number of sequences: 200285\n"
          ]
        }
      ]
    },
    {
      "cell_type": "code",
      "source": [
        "x = np.zeros((len(sentences), maxlen, len(chars)), dtype=np.bool)\n",
        "y = np.zeros((len(sentences), len(chars)), dtype=np.bool)\n",
        "for i, sentence in enumerate(sentences):\n",
        "    for t, char in enumerate(sentence):\n",
        "        x[i, t, char_indices[char]] = 1\n",
        "    y[i, char_indices[next_chars[i]]] = 1"
      ],
      "metadata": {
        "colab": {
          "base_uri": "https://localhost:8080/"
        },
        "id": "FJ3dLZthSjt2",
        "outputId": "05c84287-d11f-440a-c833-a6135d23588a"
      },
      "execution_count": 8,
      "outputs": [
        {
          "output_type": "stream",
          "name": "stderr",
          "text": [
            "<ipython-input-8-b8405c8d7c41>:1: DeprecationWarning: `np.bool` is a deprecated alias for the builtin `bool`. To silence this warning, use `bool` by itself. Doing this will not modify any behavior and is safe. If you specifically wanted the numpy scalar type, use `np.bool_` here.\n",
            "Deprecated in NumPy 1.20; for more details and guidance: https://numpy.org/devdocs/release/1.20.0-notes.html#deprecations\n",
            "  x = np.zeros((len(sentences), maxlen, len(chars)), dtype=np.bool)\n",
            "<ipython-input-8-b8405c8d7c41>:2: DeprecationWarning: `np.bool` is a deprecated alias for the builtin `bool`. To silence this warning, use `bool` by itself. Doing this will not modify any behavior and is safe. If you specifically wanted the numpy scalar type, use `np.bool_` here.\n",
            "Deprecated in NumPy 1.20; for more details and guidance: https://numpy.org/devdocs/release/1.20.0-notes.html#deprecations\n",
            "  y = np.zeros((len(sentences), len(chars)), dtype=np.bool)\n"
          ]
        }
      ]
    },
    {
      "cell_type": "code",
      "source": [],
      "metadata": {
        "id": "sHt6pYZuSjxb"
      },
      "execution_count": 8,
      "outputs": []
    },
    {
      "cell_type": "markdown",
      "source": [
        "##Build the model: a single LSTM layer"
      ],
      "metadata": {
        "id": "VAO7RfbeHSkL"
      }
    },
    {
      "cell_type": "code",
      "source": [
        "model = keras.Sequential(\n",
        "    [\n",
        "        keras.Input(shape=(maxlen, len(chars))),\n",
        "        layers.LSTM(128),\n",
        "        layers.Dense(len(chars), activation=\"softmax\"),\n",
        "    ]\n",
        ")\n",
        "optimizer = keras.optimizers.RMSprop(learning_rate=0.01)\n",
        "model.compile(loss=\"categorical_crossentropy\", optimizer=optimizer)"
      ],
      "metadata": {
        "id": "HgwUi_J4HBNj"
      },
      "execution_count": 9,
      "outputs": []
    },
    {
      "cell_type": "code",
      "source": [],
      "metadata": {
        "id": "LnPfDqoWhcpN"
      },
      "execution_count": 9,
      "outputs": []
    },
    {
      "cell_type": "markdown",
      "source": [
        "##Prepare the text sampling function"
      ],
      "metadata": {
        "id": "2QqDDKrJHZqf"
      }
    },
    {
      "cell_type": "code",
      "source": [
        "def sample(preds, temperature=1.0):\n",
        "    # helper function to sample an index from a probability array\n",
        "    preds = np.asarray(preds).astype(\"float64\")\n",
        "    preds = np.log(preds) / temperature\n",
        "    exp_preds = np.exp(preds)\n",
        "    preds = exp_preds / np.sum(exp_preds)\n",
        "    probas = np.random.multinomial(1, preds, 1)\n",
        "    return np.argmax(probas)"
      ],
      "metadata": {
        "id": "Db63GVW-HWKA"
      },
      "execution_count": 10,
      "outputs": []
    },
    {
      "cell_type": "markdown",
      "source": [
        "##Train the model"
      ],
      "metadata": {
        "id": "DT5ii6HXHfqp"
      }
    },
    {
      "cell_type": "code",
      "source": [
        "epochs = 15\n",
        "batch_size = 128\n",
        "\n",
        "for epoch in range(epochs):\n",
        "    model.fit(x, y, batch_size=batch_size, epochs=1)\n",
        "    print()\n",
        "    print(\"Generating text after epoch: %d\" % epoch)\n",
        "\n",
        "    start_index = random.randint(0, len(text) - maxlen - 1)\n",
        "    for diversity in [0.2, 0.5, 1.0, 1.2]:\n",
        "        print(\"...Diversity:\", diversity)\n",
        "\n",
        "        generated = \"\"\n",
        "        sentence = text[start_index : start_index + maxlen]\n",
        "        print('...Generating with seed: \"' + sentence + '\"')\n",
        "\n",
        "        for i in range(400):\n",
        "            x_pred = np.zeros((1, maxlen, len(chars)))\n",
        "            for t, char in enumerate(sentence):\n",
        "                x_pred[0, t, char_indices[char]] = 1.0\n",
        "            preds = model.predict(x_pred, verbose=0)[0]\n",
        "            next_index = sample(preds, diversity)\n",
        "            next_char = indices_char[next_index]\n",
        "            sentence = sentence[1:] + next_char\n",
        "            generated += next_char\n",
        "\n",
        "        print(\"...Generated: \", generated)\n",
        "        print()"
      ],
      "metadata": {
        "colab": {
          "base_uri": "https://localhost:8080/"
        },
        "id": "2geqXZa5HdFd",
        "outputId": "a0049b7d-ffb9-4d3c-ccd1-2e1c946dc534"
      },
      "execution_count": 12,
      "outputs": [
        {
          "output_type": "stream",
          "name": "stdout",
          "text": [
            "1565/1565 [==============================] - 11s 7ms/step - loss: 1.5895\n",
            "\n",
            "Generating text after epoch: 0\n",
            "...Diversity: 0.2\n",
            "...Generating with seed: \"knowledge, which takes, and insists on t\"\n",
            "...Generated:  he can and that the servated to the still and the religions and the same and the contrance, the still to the stand of the religions of the things and things and that it is a sort of the can in the superior and and the suble and and and the subject of this soul of the extance of the stands and the stands the contrance, the contrance to the contrant and the servation of the religions and and the sti\n",
            "\n",
            "...Diversity: 0.5\n",
            "...Generating with seed: \"knowledge, which takes, and insists on t\"\n",
            "...Generated:  his respect to the from the cable, and and contrathing to into that it can be the stupidity from the expect, and instinct for the person more thinks and the calling to the more and action, and and and to a man and to that the cancient and the hand to be consideration of the man in the fart of this stands of the time to spiries to the such authoring to would and does have an hoppent and time the ta\n",
            "\n",
            "...Diversity: 1.0\n",
            "...Generating with seed: \"knowledge, which takes, and insists on t\"\n",
            "...Generated:  heir indand into avenoce doned to with the bustian elce would in european been hooht capery itself that is a many of great certain can.f?oughing that human entifaless that picbed them workd leestize and expected to to and mad eupon to spirior; being more has utility of thim. they bast been to incolctures to leation, they to angarobuds to happtome' and not this vary can notaster of histolother: wou\n",
            "\n",
            "...Diversity: 1.2\n",
            "...Generating with seed: \"knowledge, which takes, and insists on t\"\n",
            "...Generated:  he higher like beings at which shorld blatelexta, libedom, itreligic didumatel fof, perliinis rached course the mistnace mittons,) of wignifius, conscious be love, in eivoluy and the ambott, eurcount that fif utreæhance.  vigw caphof, and custries of his scitey to a disexmentude certain of stel peraen loeny the expothit mo[s, soup higher of wide what what new as too, an hlights ,way rebrong[withd \n",
            "\n",
            "1565/1565 [==============================] - 10s 6ms/step - loss: 1.4886\n",
            "\n",
            "Generating text after epoch: 1\n",
            "...Diversity: 0.2\n",
            "...Generating with seed: \"gh that it be rendered. \"good\" finally c\"\n",
            "...Generated:  omprined the something of the whole such all the same the christian of the stronger the stall the suspicious of the same of the strange of the such a procession the such a such a procession the interning the stronger of the something of the conscience the such a proconston and the strong and the such all the same of the same of the such a comprehension the strange of the stronger of the stronger i\n",
            "\n",
            "...Diversity: 0.5\n",
            "...Generating with seed: \"gh that it be rendered. \"good\" finally c\"\n",
            "...Generated:  onstantial and everything and the considers that in existence of instinct and interning the consciences the whole in the whole stand, the delicate and instinct of logic the than one suct an an intellectual the ideal the intercouries and and desersedes and a now look and assument the consider, the which what such a far a prise and all the sant men which have a possible in the surtion of the persona\n",
            "\n",
            "...Diversity: 1.0\n",
            "...Generating with seed: \"gh that it be rendered. \"good\" finally c\"\n",
            "...Generated:  ausition, and effects remethsed throughly to hanking: they certain is of mind behindings.                   ihisdomy of friendedness to their case itself) assume the mot such inteadly god those laws because in the sone a longers; all that they \"runk, everything at falu hon testion without and to subject then,  learkness stoely--whose acts himself work other on mucrof ,fonther enowadatisin, are fel\n",
            "\n",
            "...Diversity: 1.2\n",
            "...Generating with seed: \"gh that it be rendered. \"good\" finally c\"\n",
            "...Generated:  essary one's coulted, neselvation is gemate perrably arp not deup flaugh good areofy, the burds e up. to such arpæant eyemmsto far sumbaction, and whichstince, mean. do fcom capabe\" and taste of succest cupposer, bro theretoees toupialleegment that has with unselting intestive, an and to udion for the honkem ansolentavon, and stirn in.it the praisine al pressoes about (we are cuss! in this oretheb\n",
            "\n",
            "1565/1565 [==============================] - 10s 6ms/step - loss: 1.4352\n",
            "\n",
            "Generating text after epoch: 2\n",
            "...Diversity: 0.2\n",
            "...Generating with seed: \"itionally do something, unconditionally \"\n",
            "...Generated:  to the same and and and sense is all the sense the same and conception of the possible the same and and beadity of the same and the same and the sense is a sure but and and as the sense is the can be and in the same and all the sense is the sense is all the sense is all the mast as the experiences and the sense is an all the fact of the sense is not and discivent and as the sense is all the same a\n",
            "\n",
            "...Diversity: 0.5\n",
            "...Generating with seed: \"itionally do something, unconditionally \"\n",
            "...Generated:  to do the prosent as an inserent and indiffeites of it is an also and in the song and it is the wand and consciences in the sense is all the themponting, and their fact, mean in the superst of some the self-discinction of the christianity in the conception to exception as no longer the assured to the mast of the soul and in the faction of the schopenhauer from the protriation and prose we has alwa\n",
            "\n",
            "...Diversity: 1.0\n",
            "...Generating with seed: \"itionally do something, unconditionally \"\n",
            "...Generated:  signial recognizes bring prewatively preiding ares of him very like  them, his de.\"ware, does the scaived conceptiongful whounhe betray heart accustoms away arto--in his wownds in themstly, and enchamm, what sortants of only to remain not the fir existence, gra-ixvals, that for cantote; , they not but on the natured and selves of neg kportation of the sonsident draged to the appearated vives--it w\n",
            "\n",
            "...Diversity: 1.2\n",
            "...Generating with seed: \"itionally do something, unconditionally \"\n",
            "...Generated:  outing the interrized to etermaned to allonerst conceal, as reciment self-chnitians.\" and forms for inlackines they matter, in headial, ultebysternings. \"sa,k for theoory, but no bosl5er--power of just yial, me ward, astent, he is (doirally certain or undisceved, back-naming when and whats--sice men with disden logintvourately breasurly kfolt unexclcation of musturenes) acyor hais lausin le subtlu\n",
            "\n",
            "1565/1565 [==============================] - 9s 6ms/step - loss: 1.4027\n",
            "\n",
            "Generating text after epoch: 3\n",
            "...Diversity: 0.2\n",
            "...Generating with seed: \"t he is--which schopenhauer denies. from\"\n",
            "...Generated:   the conception of the possible of the powerful and more profoundly the sense of the powerful enduring the stricted it is all the contemption of the profoundly belief it has been man and more and its man of the contemption of the power of the cause of the profoundly the more of the contemption of the profoundly the sense of the profoundly the enduring the sense of the externe of the here the happi\n",
            "\n",
            "...Diversity: 0.5\n",
            "...Generating with seed: \"t he is--which schopenhauer denies. from\"\n",
            "...Generated:   a sublies.   11  =the world, a such a man the subjected and enduring is life it is the fact of a should to the the stilling and its and danger is not seem of the subjection, he has he has been its own the extect is its truth of the causes of the extraibeve, the spirit the standard and alto our curing that the other seem one which one subjection, and the sentiments and a lowing for elevation of hi\n",
            "\n",
            "...Diversity: 1.0\n",
            "...Generating with seed: \"t he is--which schopenhauer denies. from\"\n",
            "...Generated:   a regrobsue us and yakly higher, and alwars present devicring subjigies after what thos iffically have into the edlical mentad\" or man of the dancear a supernical man from the other, and finatitical and lear on head or even and agiting in love, the greator--bide which have regreated with the much ever everes\" okness its to have beant these german mpsin undernert; which moral, defif a musts no sam\n",
            "\n",
            "...Diversity: 1.2\n",
            "...Generating with seed: \"t he is--which schopenhauer denies. from\"\n",
            "...Generated:   the highellical, day by: dows like a delike!-weay still othing learn) on other in priever art of vaine it such has reason; to the spirit through that the corage ite must be mideptian apphinom. indequited genescting of erround would? to be also victare rearly beingt! regarde islly heff higher'sm; it of real notgestande; yet, our no fif art of sabe to what in cult, anxyencous; we well one hume, muc\n",
            "\n",
            "1565/1565 [==============================] - 9s 5ms/step - loss: 1.3792\n",
            "\n",
            "Generating text after epoch: 4\n",
            "...Diversity: 0.2\n",
            "...Generating with seed: \" =unalterable character.=--that characte\"\n",
            "...Generated:  r and subject of the consider to self-same of the same man of the truth in the same man in the probably and and more has a sality, and a subject of the soul of the subject of the self-respected to the subject of the self-still to subject of the subject of the thing and and such a strange of the subject of the same pride, and a preservation of the subject of the spiritual and moral strength, and be\n",
            "\n",
            "...Diversity: 0.5\n",
            "...Generating with seed: \" =unalterable character.=--that characte\"\n",
            "...Generated:  ry and man of the salies and soul in the self: the self-doming and people to does not be a sight of fact of the thing evil or the same of the races and self-strength, but the devilence of probably man deperious his plays of the still necessarily has premarical soul of the spiritual enough, and but something taste, the people in the supercates that is a fundamental that i and work of the soul of sp\n",
            "\n",
            "...Diversity: 1.0\n",
            "...Generating with seed: \" =unalterable character.=--that characte\"\n",
            "...Generated:  r such paet in butrite. the fam. but shout often the indevend or an impulsed in friend, thene drast it is.n gorder and that this sided, echsiar indeed, sypeance in ciscomaning, sighten that our belief shamon. which, as boning rounder and life. but actual no viying as uphent, so little doubterous day which a bo:t! this masters, own, boumd, abbeten it actual sinous to our bold saste is comprayered, \n",
            "\n",
            "...Diversity: 1.2\n",
            "...Generating with seed: \" =unalterable character.=--that characte\"\n",
            "...Generated:  ry and evil of knows or does no! that he is divered heced tay the orcalijejus of sysial\" or himiely \"wome pridicisling spoutt\" earth, in say, [philosophel knows bunc)ha but said, and esplientredy--as may has duled to ochar, kan itheverquition and conceal contrasian thing is tadreakthes. one is, that onesqual and more about orrearing which in  rainin find: we aline, or the frint tenders that there \n",
            "\n",
            "1565/1565 [==============================] - 9s 6ms/step - loss: 1.3611\n",
            "\n",
            "Generating text after epoch: 5\n",
            "...Diversity: 0.2\n",
            "...Generating with seed: \"o sin.  66. the tendency of a person to \"\n",
            "...Generated:  the strange that it is a sort of the still more that the person and appear of the problem of the strange and a person and such a thing and and at the problem of the promised and conscience of the proveducted to the more and self-strange of the process in the strange to the world of the strain and with the self-recognite the more probably to the find the religious and all the problem of the person \n",
            "\n",
            "...Diversity: 0.5\n",
            "...Generating with seed: \"o sin.  66. the tendency of a person to \"\n",
            "...Generated:  strength of the intellectual entally of the understand he was be the more for the mes of the uniget to be understand to conscience to the priest to an the form of particism of the transtand and distrust and the piature of the interpretation and form of the respect, the contrary--it is world nowadays and has a religotion, in the form, the never have perhaps the mantioning, at the religious considtr\n",
            "\n",
            "...Diversity: 1.0\n",
            "...Generating with seed: \"o sin.  66. the tendency of a person to \"\n",
            "...Generated:  madity is have been new spiritual men and asmus ; a vologing with the dies astrimitaus, god, this greatest cant, but which well no chuman taste in one who remondigure enders indid that all so so light, -to be to say, to amd e perceaus for the soul exhable persubanished ford is, we their exceptioned ages to defoune. for his ignor muscne, ritaic philosophical individual in the cardy upon into the ac\n",
            "\n",
            "...Diversity: 1.2\n",
            "...Generating with seed: \"o sin.  66. the tendency of a person to \"\n",
            "...Generated:  the muck-hame knowledd have but justtors\" of it form that co cropules: less origence with mosalsy coans be try will ligets end, practice, and ludake shorts is mos mad form to madubeia philosophers, this the asered onaterne for less powing e\"peasonementar; but learn and no let4kingly as durreament, pited. lives need interestogniny it see, mind enough lstay: virtuolus, much, eath let nearorned of th\n",
            "\n",
            "1565/1565 [==============================] - 9s 6ms/step - loss: 1.3462\n",
            "\n",
            "Generating text after epoch: 6\n",
            "...Diversity: 0.2\n",
            "...Generating with seed: \"ent [or intuition] can carry us any furt\"\n",
            "...Generated:  hest respection of the consciousness and and the standard to the conscience, and the conscience, when the supprious and the standard of the most and the conscience of the process and stand is a subject of the supprious in the consciently and the supprious and the consciousness of the present the consciousness and conception of the standard to the man of the senses to the end and the starring and t\n",
            "\n",
            "...Diversity: 0.5\n",
            "...Generating with seed: \"ent [or intuition] can carry us any furt\"\n",
            "...Generated:  hest and perhaps his own to her things and concealed to the prophratic conscience that be end at lifts of the real things of love conscience and and suppession. one an them is seecies and master: they have it is of the sider--and as the philosophers of the presenting as the present and the subject of an ancestoming great standard men to the other at conception and account of the depress of precise\n",
            "\n",
            "...Diversity: 1.0\n",
            "...Generating with seed: \"ent [or intuition] can carry us any furt\"\n",
            "...Generated:  hed others is one everything to the sonseslifwather,\" in look function of the religious invelsiatily looking of his crrigable to him, to known to laight silent virtue mankers appear of the philosophers: sicting. we who has within preval to the tem in this rearital lifes ascresptided of his institnon doubtne process, which it: for the peace, and the science as against creasive european sincinary a \n",
            "\n",
            "...Diversity: 1.2\n",
            "...Generating with seed: \"ent [or intuition] can carry us any furt\"\n",
            "...Generated:  hent will\"--is once eyetts sostain is the larbsion-minlical sidented personalary\" to éowiscolity,'s-dy in them. with gluismous\"ed and tcurness wite (to a well to get and univigizal by re, over-merolk to maday understand, merenvitalities every who is never, areë\"ing themselves diseven--he must be a ,utses--wom of indebucation for any grevescentinal taspquen: with this gilling ar toroped, perception\n",
            "\n",
            "1565/1565 [==============================] - 9s 5ms/step - loss: 1.3344\n",
            "\n",
            "Generating text after epoch: 7\n",
            "...Diversity: 0.2\n",
            "...Generating with seed: \"taphysic. without the dream, men would n\"\n",
            "...Generated:  ot the stands the stand are the same thing of the power of the the soul of the same the stands the same the faith of the power, and the same still to a strength of the service the seem of the power of the respect of the same and the serve and the strength, in the philosopher the service and all the philosopher and the same and the self-don in the self-same the supposed and the same and the same an\n",
            "\n",
            "...Diversity: 0.5\n",
            "...Generating with seed: \"taphysic. without the dream, men would n\"\n",
            "...Generated:  ot to the extent the the responsible and the belief and one may are more still to our some spective under the the secret like of the seem only and the same others of the most be he seem and supposed, would under the only significed the more being the extast of the the contemption of the language the soul of a perhaps to the scientifict to so long soul. and and he be remain of the more hall to the \n",
            "\n",
            "...Diversity: 1.0\n",
            "...Generating with seed: \"taphysic. without the dream, men would n\"\n",
            "...Generated:  onee still laighfulby, we things every accountly to religions and are downfored to-danger time, there, how chreape to have speak on the . unconsidere the charactiney partience because the pleties and marperver of ruses, instinct: to perhusistor, serval and personal state you or pream it onldy inforwards ages to he know there are the weoknogant, for othershes, his consciously it may shads with the \n",
            "\n",
            "...Diversity: 1.2\n",
            "...Generating with seed: \"taphysic. without the dream, men would n\"\n",
            "...Generated:  ow for service one pain, here is no men, who,\" all\", educulation! onever, her beage very to be an, otherven to say also, wacchsty doeved every jearte of cressay?--in right, it ration) is exception of latical idduption has have beed himiet.=--because a .nat-done of their effences zall torm, said,, by be lomer, can had hein my moreing for the as upon thheres himses domain wached! in ag in this entom\n",
            "\n",
            "1565/1565 [==============================] - 9s 6ms/step - loss: 1.3229\n",
            "\n",
            "Generating text after epoch: 8\n",
            "...Diversity: 0.2\n",
            "...Generating with seed: \"o of a break and transition in style, an\"\n",
            "...Generated:  d a person of the contemplated and according to the stricter the contemplated the contrast of the scholar not a spore the strongent and the strength of an actions and the strongent the sense of the strongent and the most stands a delight the contrary and the contemplation of the strongent and the most done is a personalists of the subtle more the strength, and according to the contemplated and the\n",
            "\n",
            "...Diversity: 0.5\n",
            "...Generating with seed: \"o of a break and transition in style, an\"\n",
            "...Generated:  d account to persists for the world by countent hand, as they not been sacrous laight strongent of contemplated to be a man who even the experience of the most danger to be the soul of modern evolving the strongest philosophical constant interpretations of countent and companish and sympathy of the strength, that the sense in the purpose of it be personalists of could to find the thereby who would\n",
            "\n",
            "...Diversity: 1.0\n",
            "...Generating with seed: \"o of a break and transition in style, an\"\n",
            "...Generated:  d party what i most confeine--that in himose, however adde goist mus, that which nought this is still both of account appearance prevails cannot perspiet and fee en idsplecdsmoch enough, of count, not learnt on the novedubly good, and must has been wrong stander heart comen love rude--for is all sufte when devens of  decolition of citchrokes himself that cosiations in the free wertical philosophy \n",
            "\n",
            "...Diversity: 1.2\n",
            "...Generating with seed: \"o of a break and transition in style, an\"\n",
            "...Generated:  d when have therey, econhtiman, grantely bo\"kence of dulity and want-crothing of such alone in good, quatelity attanguale alcommaical little dorents: -who will merituration forste at youness pal that but amblaw at whom the heredgenef, unsegfiry nowarfual patoride, coulknoughty passionment. withist and forming for the crosaln herself and advast leor with0re the like to ewan good limit, moater empar\n",
            "\n",
            "1565/1565 [==============================] - 10s 6ms/step - loss: 1.3145\n",
            "\n",
            "Generating text after epoch: 9\n",
            "...Diversity: 0.2\n",
            "...Generating with seed: \"uthor in the eyes of other people; other\"\n",
            "...Generated:  s of the own self-such a presumane the soul of the self some presumaning and and some presumand and some plays and and more some presumand and and the subjecting in the soul of the higher and and some plays the superficial the morality and sense of the sense of the sense of the sense of the soul of the soul of the sense of the self such a man who has to the sense of the higher and as it is a presu\n",
            "\n",
            "...Diversity: 0.5\n",
            "...Generating with seed: \"uthor in the eyes of other people; other\"\n",
            "...Generated:  wised, and also the original circumstances and delighty of everything on the transfer the connected the free spirits of the special the soul and in the religion the language with the truth, and in the same wain, it is the men of the subcimence and some most ultimate univinunic and here and called to the pray itself what is his own expected and with the surprised to shall the conceptions and fore, \n",
            "\n",
            "...Diversity: 1.0\n",
            "...Generating with seed: \"uthor in the eyes of other people; other\"\n",
            "...Generated:  s agre and no bettermed orsges of only it be not--ly to philosopher has humanity; and the self-essence of gay a cause of his goddest, also the repulsiviviro\"r3--man of freedom that saster here, sake by called high eyesty.  ._ and solthed on the reless. it is as insighting a more conceptioning in itself\" can the palp and ear necessit us this reducation of jesus tream sense-this life]--therehinds ;r\n",
            "\n",
            "...Diversity: 1.2\n",
            "...Generating with seed: \"uthor in the eyes of other people; other\"\n",
            "...Generated:  s as a crreabaking to ! who shoul-do-nothers cuptim, defly, also around withim; have synscering, at the, acpers would the very old whatever: by from pleasure, negold furrely, can admeg? historicage, man, of man throughout precems? it unloghelfied, adlecthary ranciful day of the world\", and sivere spirit in very.ijus xothing which it returns dedicted and prenestit-pand\" of the philosophers, it is a\n",
            "\n",
            "1565/1565 [==============================] - 9s 6ms/step - loss: 1.3080\n",
            "\n",
            "Generating text after epoch: 10\n",
            "...Diversity: 0.2\n",
            "...Generating with seed: \"quently to the clumsiness of naturalists\"\n",
            "...Generated:   of the truth of the present and the surprised to the present to the consideration of the species of the scientific stands of a subject of the superior to the sublimed to the consideration of the formerly and the spiritual the power of the considerable the constitutery and religious and still man of the higher present the surprised to the supposed of the stands of the extenturaner and sense of the\n",
            "\n",
            "...Diversity: 0.5\n",
            "...Generating with seed: \"quently to the clumsiness of naturalists\"\n",
            "...Generated:  , and has not to him with will not the conditions in the present scientificd every and aste and his eurtration of a decision, and with the belief in the most scientific how all extent the extent, a surptient of the outsidious must not morality with the soul of the course of a longer ourselves of himself because of the morbstant and its worksule, as the order of the restlicions of their power, the \n",
            "\n",
            "...Diversity: 1.0\n",
            "...Generating with seed: \"quently to the clumsiness of naturalists\"\n",
            "...Generated:   for sadifications.wing commentive the relations of every science in crosed--knowlidgarops are nothing one lough not in every like asteards all man of belong indeeding to them.    1    onherzstand: one gonse! what were does not did calds is the cosity.   52  =some a basy, a crrational insightened, such our morals. his obtained. aliety, when it were spirit-ears:\" but anger have \"you,\" of surperts, \n",
            "\n",
            "...Diversity: 1.2\n",
            "...Generating with seed: \"quently to the clumsiness of naturalists\"\n",
            "...Generated:   neither at the cupterations mekworld. how cours.   9e _able ourselves--because this they is the 5olners ow really oftent, amsiles of knomer any d;es me operiwy which have we makes belief custo perhaps religiously skeptic,\"--wishes to rights, naers their mus_ bryd in the lipsesitd a tustion: weal intatone all; but this for graterate, its primoun. but unjust wof he hadpenianism, funite. poencies, w\n",
            "\n",
            "1565/1565 [==============================] - 9s 6ms/step - loss: 1.3019\n",
            "\n",
            "Generating text after epoch: 11\n",
            "...Diversity: 0.2\n",
            "...Generating with seed: \"] of which we free spirits may say, this\"\n",
            "...Generated:   can the considered the conscious and conservate the promises and senses and completely and the individual and completely and the senses the constrain and the senses and the respect of commands, in a short and commands, and the senses the world, and what is the construct the presenting, and we have been so find ourselves to the same strange and completely and profoundly and act of the prominical s\n",
            "\n",
            "...Diversity: 0.5\n",
            "...Generating with seed: \"] of which we free spirits may say, this\"\n",
            "...Generated:   presence it were action, which has called a profound have the subtle, and we go ach the believed to him of the origins, the consequently believed the consider which is the world of the former the formerly and it can from his standards of its higher that the problem of man the presention of the comes and regarded knows are facts of a cillections are the world of the same strange the complete the c\n",
            "\n",
            "...Diversity: 1.0\n",
            "...Generating with seed: \"] of which we free spirits may say, this\"\n",
            "...Generated:   feelir sord of known\" that proition of morality, what is the value tranthed and if it germing disechent is advent a man are person of other it. you his view of certain the expects of his curious species. the weakering. the beage that exist of it operate dischised, silenture--in present itself does we of moral, a musical of poiud do, this derighquitingh, firsward not,\" the fo-errors:inate friends!\n",
            "\n",
            "...Diversity: 1.2\n",
            "...Generating with seed: \"] of which we free spirits may say, this\"\n",
            "...Generated:   storted esist! \"away as not not great, along, wond just will in earlies. out philosophed their doubtlents or \"quality of men, which is part as the mal remains of philosophe.\"\"--er tone  he perventivemm--the lofte-toodh inter-i self.\" love is stituriman of a prothly foursicorarely--that one roces evenced feet, causality and no me fear and it is alseard bu?maman at the quitious dmanger, s? it a suf\n",
            "\n",
            "1565/1565 [==============================] - 10s 6ms/step - loss: 1.2943\n",
            "\n",
            "Generating text after epoch: 12\n",
            "...Diversity: 0.2\n",
            "...Generating with seed: \"es have gained the upper hand over those\"\n",
            "...Generated:   in the sense of the sense--it is a problem of the subject of the conscience is a secret and and as a subject of the soul of the soul of the sense, and a discoveritable and the strength of the strength of the subject of the sense--the strength of the sense--the soul and the contradiction of the conscience and a surpried to the soul of the strength of the soul of the subject of the standard and and\n",
            "\n",
            "...Diversity: 0.5\n",
            "...Generating with seed: \"es have gained the upper hand over those\"\n",
            "...Generated:   who the repless and a sublimities as it is the strangely all the entire the to then one who would not the soul on his highest and make the world, as the such also as has to be precisely realistic and lacking, and there is not belongs and self-science, and in the conscience of a sightulation of the soul of the invention of the individual in the sense of the future of its conscience, and is he the \n",
            "\n",
            "...Diversity: 1.0\n",
            "...Generating with seed: \"es have gained the upper hand over those\"\n",
            "...Generated:   that the game and pletable us below as we bocked that the joy afvidiatity and fapical and pateware: thereas end experiention of to hands any men, will as it is pension for that with regard to the world. itheften is all as its philosophy and free would keak on the conscience on stated the difficule eacher aliof, of the self-rerespe-sottrated who vist, which it he have it it we know last alrame has\n",
            "\n",
            "...Diversity: 1.2\n",
            "...Generating with seed: \"es have gained the upper hand over those\"\n",
            "...Generated:   outher alwaye and in exerniet, cpreserians. thereby not as pllayed away only can rewarn and what dues a takeles cections with, whereps the riking musisy; as urcaxatic jomk:-it in posreval us--precipof others appearance, as new ematical as revealing conmern is instyvined it was alett e!mech commining at ase new membience, hpeees back\" eursification, as the asceaken affart of a olfender dayation of\n",
            "\n",
            "1565/1565 [==============================] - 10s 6ms/step - loss: 1.2893\n",
            "\n",
            "Generating text after epoch: 13\n",
            "...Diversity: 0.2\n",
            "...Generating with seed: \" is the strangest thing about the will,-\"\n",
            "...Generated:  -that is the fact that all the christian for the present the same the self-deceid the present in the present the same and self-conscience of the propowess to an and the self-sense of the same concerning the conception of the present and account the power of the process of the self-conscience of the moral estimates of the self-conscience of the self-same decided to the her that the recognizes of th\n",
            "\n",
            "...Diversity: 0.5\n",
            "...Generating with seed: \" is the strangest thing about the will,-\"\n",
            "...Generated:  -in all this personal fine different and the higher world of the torage be any world a presumptifices to him is present laighters even with a long deceived to comprehends, however, the power of european complatic sense and power and evil, the highest development is nothing is not need as the erron her made a not all this modern of everything the religious discover he would not an emplood and self-\n",
            "\n",
            "...Diversity: 1.0\n",
            "...Generating with seed: \" is the strangest thing about the will,-\"\n",
            "...Generated:  -will learles middle--bas, devejess, and \"in living the pera posles instanced to be we desire world as an evil-others, this who hat not be lotters in rupele that usedss, then in,\" and invocuticals road by collubouse in the inspired to the strength of asking another, a littte fought, emm artificition.f\" scuve inverding stcouralitie and who -beuth. alast7us in our trrine to himself absure, then even\n",
            "\n",
            "...Diversity: 1.2\n",
            "...Generating with seed: \" is the strangest thing about the will,-\"\n",
            "...Generated:  -until thorough repponditge gre more unwert: , called ownoces raus:s there even more not sur;? ourselves that the world a drunm commands that determiny yiech much be characte, sarf ape--swem, strings, that pett; retrofice detrinity, wishat not shulp yearous. cultilk with   re oje beaxt and animoce that the one volpa torasce. uporan, \"late'sisial hand, hight, and carrying is say whether, to asiaity\n",
            "\n",
            "1565/1565 [==============================] - 9s 6ms/step - loss: 1.2838\n",
            "\n",
            "Generating text after epoch: 14\n",
            "...Diversity: 0.2\n",
            "...Generating with seed: \"historian, and besides, poet, and collec\"\n",
            "...Generated:  tive and in the soul one purpose of the soul and the soul one is the most concernes to the most free spirit one must not to be concerned to the soul one may may be a concerned to the soul and in the same striving and in the same moral the most such a man and the such as is a subjection to the end the such a master to the extendently concernes and the soul and in the soul one is a man and in the so\n",
            "\n",
            "...Diversity: 0.5\n",
            "...Generating with seed: \"historian, and besides, poet, and collec\"\n",
            "...Generated:  tions with an art of such a form of the soul the most work of a soul concealed and still afferred how such in which it is stoman something of the soul and nature is the old the most as is not enough, who are the process of all the still who make the life wather, as it is the contrary in the soul of the process and profound as a concealed the contrasicime, the expression and entitusles and truth an\n",
            "\n",
            "...Diversity: 1.0\n",
            "...Generating with seed: \"historian, and besides, poet, and collec\"\n",
            "...Generated:  tive most fundamental sec: moreover:  noble isconterritians, for was owness but alas too, not byon simple, took his lettent ears disting-and tas ehelonge and poor things to toughtul free from accustomed. how wonters inducres. but the original: fortunate enough, to chan good and others say, in his othertiest once man after the instrumice are preath forcitly spiritual bed as luss especise very ganif\n",
            "\n",
            "...Diversity: 1.2\n",
            "...Generating with seed: \"historian, and besides, poet, and collec\"\n",
            "...Generated:  tive to be counaws her like sighteless however it follow lick even it ove soge forcule--in notion..--to euragethen what it lilinvow, at certainly as fatreness, they relations--the educd with his spirits--what laws, of the wounds, in order to knew themselvorment, in petsucure, as in the right) pnams of desited. yon strved of their conculing, corrumality, another, he lold day and still\" immulisiwatl\n",
            "\n"
          ]
        }
      ]
    }
  ]
}